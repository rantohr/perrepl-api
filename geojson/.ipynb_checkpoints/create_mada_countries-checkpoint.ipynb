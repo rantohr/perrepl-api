{
 "cells": [
  {
   "cell_type": "code",
   "execution_count": 11,
   "id": "40372433-2cc7-419a-8596-1df46d00cabf",
   "metadata": {
    "tags": []
   },
   "outputs": [],
   "source": [
    "import pandas as pd\n",
    "import numpy as np\n",
    "from collections import defaultdict\n",
    "import json"
   ]
  },
  {
   "cell_type": "code",
   "execution_count": 10,
   "id": "7b5cbc09-4aed-4484-849b-e3303e07fe35",
   "metadata": {
    "tags": []
   },
   "outputs": [
    {
     "data": {
      "text/plain": [
       "dict"
      ]
     },
     "execution_count": 10,
     "metadata": {},
     "output_type": "execute_result"
    }
   ],
   "source": [
    "file_path = \"gadm41_MDG_4.json\"\n",
    "json_data = json.load(open(file_path))\n",
    "type(json_data)"
   ]
  },
  {
   "cell_type": "code",
   "execution_count": 21,
   "id": "04d767f7-f39e-4459-b351-fd173438620d",
   "metadata": {
    "tags": []
   },
   "outputs": [],
   "source": [
    "cmap = {\n",
    "    \"GID_0\": \"country_code\",\n",
    "    \"NAME_1\": \"province\",\n",
    "    \"NAME_2\": \"region\",\n",
    "    \"NAME_3\": \"district\",\n",
    "    \"NAME_4\": \"commune\"\n",
    "}\n",
    "# country_code = models.CharField(max_length=255, db_index=True, default=\"MDG\")\n",
    "# province = models.CharField(max_length=255, db_index=True, null=True)\n",
    "# region = models.CharField(max_length=255, db_index=True, null=True)\n",
    "# district = models.CharField(max_length=255, db_index=True, null=True)\n",
    "# latitude = models.DecimalField(max_digits=15, decimal_places=12, null=True)\n",
    "# longitude = models.DecimalField(max_digits=15, decimal_places=12, null=True)"
   ]
  },
  {
   "cell_type": "code",
   "execution_count": 22,
   "id": "6e9627bc-dac0-4d71-b889-f255059c0543",
   "metadata": {
    "tags": []
   },
   "outputs": [
    {
     "name": "stdout",
     "output_type": "stream",
     "text": [
      "json_data keys\n",
      "dict_keys(['type', 'name', 'crs', 'features'])\n"
     ]
    }
   ],
   "source": [
    "# Check geometry shape\n",
    "print(f\"json_data keys\\n{json_data.keys()}\")"
   ]
  },
  {
   "cell_type": "code",
   "execution_count": 23,
   "id": "4be045e5-8470-45cf-89e5-60cfe7b8bd7d",
   "metadata": {
    "tags": []
   },
   "outputs": [
    {
     "data": {
      "text/plain": [
       "1433"
      ]
     },
     "execution_count": 23,
     "metadata": {},
     "output_type": "execute_result"
    }
   ],
   "source": [
    "len(json_data[\"features\"])"
   ]
  },
  {
   "cell_type": "code",
   "execution_count": 24,
   "id": "b5431a74-b54c-4c3b-b381-5126e6bfa5eb",
   "metadata": {
    "tags": []
   },
   "outputs": [
    {
     "name": "stdout",
     "output_type": "stream",
     "text": [
      "{'type': 'Feature', 'properties': {'GID_4': 'MDG.1.1.1.25_1', 'GID_0': 'MDG', 'COUNTRY': 'Madagascar', 'GID_1': 'MDG.1_1', 'NAME_1': 'Antananarivo', 'GID_2': 'MDG.1.1_1', 'NAME_2': 'Analamanga', 'GID_3': 'MDG.1.1.1_1', 'NAME_3': 'Ambohidratrimo', 'NAME_4': 'Talatamaty', 'VARNAME_4': 'NA', 'TYPE_4': 'NA', 'ENGTYPE_4': 'NA', 'CC_4': 'NA'}, 'geometry': {'type': 'MultiPolygon', 'coordinates': [[[[47.4331, -18.8442], [47.4359, -18.8389], [47.4418, -18.8415], [47.4439, -18.8366], [47.4442, -18.8302], [47.4512, -18.8274], [47.4612, -18.8161], [47.4627, -18.8164], [47.4598, -18.8115], [47.4649, -18.8021], [47.4605, -18.7967], [47.4649, -18.7953], [47.4687, -18.7987], [47.4727, -18.7996], [47.4714, -18.8131], [47.467, -18.816], [47.4647, -18.8222], [47.4658, -18.8311], [47.4574, -18.8297], [47.4562, -18.8347], [47.4585, -18.8373], [47.4633, -18.8343], [47.4668, -18.8369], [47.4714, -18.8375], [47.4705, -18.843], [47.4649, -18.8497], [47.4614, -18.8525], [47.4595, -18.8515], [47.4575, -18.8546], [47.4457, -18.8485], [47.4312, -18.8481], [47.4331, -18.8442]]], [[[47.4478, -18.8223], [47.448, -18.8202], [47.4503, -18.822], [47.448, -18.8235], [47.4478, -18.8223]]]]}}\n"
     ]
    }
   ],
   "source": [
    "for f in json_data[\"features\"]:\n",
    "    if len(f[\"geometry\"][\"coordinates\"]) > 1:\n",
    "        print(f)\n",
    "        break"
   ]
  },
  {
   "cell_type": "code",
   "execution_count": 26,
   "id": "c63db997-dd8b-49ee-9143-ea7df8290e9e",
   "metadata": {
    "tags": []
   },
   "outputs": [],
   "source": [
    "def mean(coordinate):\n",
    "    return np.mean(coordinate, axis=0)\n",
    "\n",
    "def get_geographical_coordinates(coordinates):\n",
    "    output = list()\n",
    "    for coordinate in coordinates:\n",
    "        lon, lat = mean(coordinate[0])\n",
    "        output.append({\n",
    "            \"longitude\": lon,\n",
    "            \"latitude\": lat\n",
    "        })\n",
    "    return output\n",
    "\n",
    "def extract_column_table(json_data):\n",
    "    extracted_data = list()\n",
    "    for feature in json_data[\"features\"]:\n",
    "        local_name = {cmap[key]: value for key, value in feature[\"properties\"].items() if k in cmap}\n",
    "        geographical_coordinates = dict(geographical_coordinates=get_geographical_coordinates(feature[\"geometry\"][\"coordinates\"]))\n",
    "        temp_data = {**local_name, **geographical_coordinates}\n",
    "        extracted_data.append(temp_data)\n",
    "    return extracted_data\n",
    "\n",
    "extracted_data = extract_column_table(json_data)"
   ]
  },
  {
   "cell_type": "code",
   "execution_count": 30,
   "id": "9be39a77-ec8c-47a5-a106-f9a6d9f4b701",
   "metadata": {
    "tags": []
   },
   "outputs": [
    {
     "data": {
      "text/plain": [
       "[{'country_code': 'MDG',\n",
       "  'province': 'Antananarivo',\n",
       "  'region': 'Analamanga',\n",
       "  'district': 'Ambohidratrimo',\n",
       "  'commune': 'Ambato',\n",
       "  'geographical_coordinates': [{'longitude': 47.50312656249999,\n",
       "    'latitude': -18.561303125000006}]},\n",
       " {'country_code': 'MDG',\n",
       "  'province': 'Antananarivo',\n",
       "  'region': 'Analamanga',\n",
       "  'district': 'Ambohidratrimo',\n",
       "  'commune': 'Ambatolampy',\n",
       "  'geographical_coordinates': [{'longitude': 47.497249999999994,\n",
       "    'latitude': -18.784885}]}]"
      ]
     },
     "execution_count": 30,
     "metadata": {},
     "output_type": "execute_result"
    }
   ],
   "source": [
    "extracted_data[0:2]"
   ]
  },
  {
   "cell_type": "code",
   "execution_count": 31,
   "id": "3ec980db-7c84-4dcb-b1a9-8aff82ff1a59",
   "metadata": {
    "tags": []
   },
   "outputs": [],
   "source": [
    "with open(\"mada_country.json\", \"w\") as fw:\n",
    "    fw.write(json.dumps(extracted_data))"
   ]
  },
  {
   "cell_type": "code",
   "execution_count": null,
   "id": "2c1aa840-37e9-4da3-b495-1dd04d59b05c",
   "metadata": {},
   "outputs": [],
   "source": []
  }
 ],
 "metadata": {
  "kernelspec": {
   "display_name": "Python 3 (ipykernel)",
   "language": "python",
   "name": "python3"
  },
  "language_info": {
   "codemirror_mode": {
    "name": "ipython",
    "version": 3
   },
   "file_extension": ".py",
   "mimetype": "text/x-python",
   "name": "python",
   "nbconvert_exporter": "python",
   "pygments_lexer": "ipython3",
   "version": "3.10.12"
  }
 },
 "nbformat": 4,
 "nbformat_minor": 5
}
